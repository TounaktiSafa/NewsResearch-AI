{
 "cells": [
  {
   "cell_type": "code",
   "execution_count": 35,
   "id": "83211bbc-ee61-4af4-a41e-e3cca142098e",
   "metadata": {},
   "outputs": [],
   "source": [
    "import os\n",
    "import streamlit as st\n",
    "import pickle\n",
    "import requests\n",
    "from bs4 import BeautifulSoup\n",
    "from langchain.chains import RetrievalQAWithSourcesChain\n",
    "from langchain.text_splitter import RecursiveCharacterTextSplitter\n",
    "from langchain.document_loaders import UnstructuredURLLoader\n",
    "from langchain_community.embeddings import HuggingFaceEmbeddings\n",
    "from langchain_community.vectorstores import FAISS\n",
    "from langchain_community.llms import Ollama\n",
    "from langchain.docstore.document import Document\n",
    "    "
   ]
  },
  {
   "cell_type": "code",
   "execution_count": 36,
   "id": "d2e2b61e-5d90-4d53-b92a-e82219214e57",
   "metadata": {},
   "outputs": [],
   "source": [
    "llm = Ollama(model=\"llama2\")\n"
   ]
  },
  {
   "cell_type": "code",
   "execution_count": 48,
   "id": "f77ec23f-b5ee-42fc-9de0-1ccb2e714a24",
   "metadata": {},
   "outputs": [],
   "source": [
    "def extract_text_from_urls(urls):\n",
    "    all_text = \"\"\n",
    "    for url in urls:\n",
    "        try:\n",
    "            response = requests.get(url)\n",
    "            soup = BeautifulSoup(response.content, 'html.parser')\n",
    "            # Extract text from paragraphs\n",
    "            paragraphs = soup.find_all('p')\n",
    "            text = ' '.join([p.get_text() for p in paragraphs])\n",
    "            all_text += f\"\\n\\n--- Content from {url} ---\\n{text}\"\n",
    "        except Exception as e:\n",
    "            print(f\"Error loading {url}: {e}\")\n",
    "    return all_text\n",
    "\n",
    "# URLs to load\n",
    "urls = [\n",
    "    \"https://www.moneycontrol.com/news/business/banks/hdfc-bank-re-appoints-sanmoy-chakrabarti-as-chief-risk-officer-11259771.html\",\n",
    "    \"https://www.moneycontrol.com/news/business/markets/market-corrects-post-rbi-ups-inflation-forecast-icrr-bet-on-these-top-10-rate-sensitive-stocks-ideas-11142611.html\"\n",
    "]\n",
    "\n",
    "try:\n",
    "    loader = UnstructuredURLLoader(urls=urls)\n",
    "    data = loader.load()\n",
    "except Exception as e:\n",
    "    print(f\"UnstructuredURLLoader failed: {e}\")\n",
    "    print(\"Using fallback URL loading method...\")\n",
    "    data_text = extract_text_from_urls(urls)\n",
    "    \n",
    "    data = [Document(page_content=data_text, metadata={\"source\": \" | \".join(urls)})]\n"
   ]
  },
  {
   "cell_type": "code",
   "execution_count": 49,
   "id": "92acacd2-af98-4b21-bba4-e17aae88da01",
   "metadata": {},
   "outputs": [],
   "source": [
    "text_splitter = RecursiveCharacterTextSplitter(\n",
    "    chunk_size=1000,\n",
    "    chunk_overlap=200\n",
    ")\n",
    "docs = text_splitter.split_documents(data)"
   ]
  },
  {
   "cell_type": "code",
   "execution_count": 50,
   "id": "6e53fc6f-e26e-4e08-b096-d2a3ace2d1d8",
   "metadata": {},
   "outputs": [
    {
     "name": "stderr",
     "output_type": "stream",
     "text": [
      "C:\\Users\\USER\\anaconda3\\Lib\\site-packages\\torch\\nn\\modules\\module.py:1762: FutureWarning: `encoder_attention_mask` is deprecated and will be removed in version 4.55.0 for `BertSdpaSelfAttention.forward`.\n",
      "  return forward_call(*args, **kwargs)\n"
     ]
    }
   ],
   "source": [
    "embeddings = HuggingFaceEmbeddings(model_name=\"sentence-transformers/all-MiniLM-L6-v2\")\n",
    "vector_index = FAISS.from_documents(docs, embeddings)"
   ]
  },
  {
   "cell_type": "code",
   "execution_count": 51,
   "id": "4807fb4a-aab0-48cd-adfc-5eab2462dac0",
   "metadata": {},
   "outputs": [],
   "source": [
    "file_path = '../vector_index.pkl'\n",
    "with open(file_path, \"wb\") as f:\n",
    "    pickle.dump(vector_index, f)\n"
   ]
  },
  {
   "cell_type": "code",
   "execution_count": 42,
   "id": "f9538d3c-4b57-4103-9181-b9fe6db8f096",
   "metadata": {},
   "outputs": [],
   "source": [
    "if os.path.exists(file_path):\n",
    "    with open(file_path, \"rb\") as f:\n",
    "        vectorIndex = pickle.load(f)"
   ]
  },
  {
   "cell_type": "code",
   "execution_count": 52,
   "id": "338041e8-a884-4a48-ada5-a12d1f71559b",
   "metadata": {
    "scrolled": true
   },
   "outputs": [
    {
     "data": {
      "text/plain": [
       "RetrievalQA(verbose=False, combine_documents_chain=StuffDocumentsChain(verbose=False, llm_chain=LLMChain(verbose=False, prompt=PromptTemplate(input_variables=['context', 'question'], input_types={}, partial_variables={}, template=\"Use the following pieces of context to answer the question at the end. If you don't know the answer, just say that you don't know, don't try to make up an answer.\\n\\n{context}\\n\\nQuestion: {question}\\nHelpful Answer:\"), llm=Ollama(), output_parser=StrOutputParser(), llm_kwargs={}), document_prompt=PromptTemplate(input_variables=['page_content'], input_types={}, partial_variables={}, template='{page_content}'), document_variable_name='context'), return_source_documents=True, retriever=VectorStoreRetriever(tags=['FAISS', 'HuggingFaceEmbeddings'], vectorstore=<langchain_community.vectorstores.faiss.FAISS object at 0x000001A4D5622B50>, search_kwargs={}))"
      ]
     },
     "execution_count": 52,
     "metadata": {},
     "output_type": "execute_result"
    }
   ],
   "source": [
    "chain = RetrievalQA.from_chain_type(\n",
    "    llm=llm,\n",
    "    chain_type=\"stuff\",\n",
    "    retriever=vector_index.as_retriever(),\n",
    "    return_source_documents=True\n",
    ")\n",
    "chain"
   ]
  },
  {
   "cell_type": "code",
   "execution_count": 55,
   "id": "8bfb85a4-c7a7-4dd6-8aff-5b3c769d5e18",
   "metadata": {},
   "outputs": [
    {
     "name": "stderr",
     "output_type": "stream",
     "text": [
      "C:\\Users\\USER\\anaconda3\\Lib\\site-packages\\torch\\nn\\modules\\module.py:1762: FutureWarning: `encoder_attention_mask` is deprecated and will be removed in version 4.55.0 for `BertSdpaSelfAttention.forward`.\n",
      "  return forward_call(*args, **kwargs)\n"
     ]
    },
    {
     "name": "stdout",
     "output_type": "stream",
     "text": [
      "Result: Based on the provided context, the price of Tiago iCNG cannot be determined with certainty as it is not mentioned in the given text. The text only provides information about the stock prices of Manappuram Finance, Ashok Leyland, and Hero MotoCorp, but does not provide any information about the price of Tiago iCNG. Therefore, I cannot answer your question.\n",
      "\n",
      "==================================================\n",
      "SOURCE DOCUMENTS:\n",
      "==================================================\n",
      "\n",
      "--- Source Document 1 ---\n",
      "Source: https://www.moneycontrol.com/news/business/markets/market-corrects-post-rbi-ups-inflation-forecast-icrr-bet-on-these-top-10-rate-sensitive-stocks-ideas-11142611.html\n",
      "Content: The price movement after that led to the development of the symmetrical triangle. Currently, the stock is very close to multiple moving average support level at 50-day, 100-day and 200-day MA which is expected to act as a strong support level and the price is likely to move towards the previous highs of Rs 1,720 levels.\n",
      "\n",
      "Thus, one should continue to hold the stock with stop-loss of Rs 1,612 and can expect a potential up move towards Rs 1,720 levels.\n",
      "\n",
      "Image110082023\n",
      "\n",
      "Manappuram Finance: Buy | LTP...\n",
      "------------------------------\n",
      "\n",
      "--- Source Document 2 ---\n",
      "Source: https://www.moneycontrol.com/news/business/markets/market-corrects-post-rbi-ups-inflation-forecast-icrr-bet-on-these-top-10-rate-sensitive-stocks-ideas-11142611.html\n",
      "Content: Image110082023\n",
      "\n",
      "Manappuram Finance: Buy | LTP: Rs 142.40 | Stop-Loss: Rs 131 | Target: Rs 155 | Return: 9 percent\n",
      "\n",
      "Since February 2022, Manappuram Finance has been in a consolidation phase. After reaching a low point at Rs 81 levels in June 2022, the stock gradually climbed. During its ascent, it surpassed the 50-day, 100-day, and 200-day moving averages. However, its upward momentum slowed around Rs 133-134 levels, acting as a resistance, and a corrective decline followed. This decline found su...\n",
      "------------------------------\n",
      "\n",
      "--- Source Document 3 ---\n",
      "Source: https://www.moneycontrol.com/news/business/markets/market-corrects-post-rbi-ups-inflation-forecast-icrr-bet-on-these-top-10-rate-sensitive-stocks-ideas-11142611.html\n",
      "Content: Image1010082023\n",
      "\n",
      "Expert: Mitesh Karwa, research analyst at Bonanza Portfolio\n",
      "\n",
      "Ashok Leyland: Buy | LTP: Rs 187.55 | Stop-Loss: Rs 178 | Target: Rs 207 | Return: 10 percent\n",
      "\n",
      "A significant breakout of a Cup and Handle pattern in Ashok Leyland has been observed. This pattern often indicates a potential bullish continuation of the existing trend. The good volume during the breakout suggests increased buying interest at the current price levels, which further reinforces the positive outlook.\n",
      "\n",
      "Moreove...\n",
      "------------------------------\n",
      "\n",
      "--- Source Document 4 ---\n",
      "Source: https://www.moneycontrol.com/news/business/markets/market-corrects-post-rbi-ups-inflation-forecast-icrr-bet-on-these-top-10-rate-sensitive-stocks-ideas-11142611.html\n",
      "Content: Hence, based on the above technical structure one can initiate a long position in Ashok Leyland at Rs 187.55 or buy on a dip till Rs 187 levels can be used as buying opportunity for the upside target of Rs 207. However, the bullish view will be negated if Ashok Leyland closes below the support level of Rs 178.\n",
      "\n",
      "Image710082023\n",
      "\n",
      "Hero MotoCorp: Buy | LTP: Rs 3,059.7 | Stop-Loss: Rs 2,850 | Target: Rs 3,500 | Return: 14 percent\n",
      "\n",
      "In the weekly timeframe, Hero price retraced 0.618 percent from its hig...\n",
      "------------------------------\n"
     ]
    }
   ],
   "source": [
    "from langchain.chains import RetrievalQA\n",
    "\n",
    "# Create simpler chain\n",
    "chain = RetrievalQA.from_chain_type(\n",
    "    llm=llm,\n",
    "    chain_type=\"stuff\",\n",
    "    retriever=vector_index.as_retriever(),\n",
    "    return_source_documents=True\n",
    ")\n",
    "\n",
    "# Test it\n",
    "result = chain.invoke({\"query\": \"what is the price of Tiago iCNG?\"})\n",
    "print(\"Result:\", result[\"result\"])\n",
    "print(\"\\n\" + \"=\"*50)\n",
    "print(\"SOURCE DOCUMENTS:\")\n",
    "print(\"=\"*50)\n",
    "\n",
    "# Display all source documents with their content\n",
    "for i, doc in enumerate(result.get(\"source_documents\", [])):\n",
    "    print(f\"\\n--- Source Document {i+1} ---\")\n",
    "    print(f\"Source: {doc.metadata.get('source', 'Unknown')}\")\n",
    "    print(f\"Content: {doc.page_content[:500]}...\")  # Show first 500 characters\n",
    "    print(\"-\" * 30)"
   ]
  }
 ],
 "metadata": {
  "kernelspec": {
   "display_name": "Python [conda env:base] *",
   "language": "python",
   "name": "conda-base-py"
  },
  "language_info": {
   "codemirror_mode": {
    "name": "ipython",
    "version": 3
   },
   "file_extension": ".py",
   "mimetype": "text/x-python",
   "name": "python",
   "nbconvert_exporter": "python",
   "pygments_lexer": "ipython3",
   "version": "3.13.5"
  }
 },
 "nbformat": 4,
 "nbformat_minor": 5
}
