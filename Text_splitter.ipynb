{
 "cells": [
  {
   "cell_type": "code",
   "execution_count": 21,
   "id": "fae21853-cd19-4e7e-85c6-1fc6fac8db8e",
   "metadata": {},
   "outputs": [],
   "source": [
    "text = \"\"\"The stock of NVIDIA Corp (NASDAQ:NVDA) experienced a daily loss of -3.56% and a 3-month gain of 32.35%. With an Earnings Per Share (EPS) (EPS) of $1.92, the question arises: is the stock significantly overvalued? This article aims to provide a detailed valuation analysis of NVIDIA, offering insights into its financial strength, profitability, growth, and more. We invite you to delve into this comprehensive analysis.\n",
    "\n",
    "Company Overview\n",
    "Warning! GuruFocus has detected 10 Warning Signs with NVDA. Click here to check it out.\n",
    "\n",
    "NVDA 30-Year Financial Data\n",
    "\n",
    "The intrinsic value of NVDA\n",
    "\n",
    "\n",
    "NVIDIA Corp (NASDAQ:NVDA) is a leading designer of discrete graphics processing units that enhance the experience on computing platforms. The firm's chips are widely used in various end markets, including PC gaming and data centers. In recent years, NVIDIA has broadened its focus from traditional PC graphics applications such as gaming to more complex and favorable opportunities, including artificial intelligence and autonomous driving, leveraging the high-performance capabilities of its products.\n",
    "\n",
    "Currently, NVIDIA's stock price stands at $418.01, significantly higher than the GF Value of $310.28, indicating the stock might be overvalued. With a market cap of $1 trillion, the valuation seems steep. The following analysis aims to delve deeper into the company's value.\n",
    "\n",
    "Is NVIDIA's Stock Significantly Overvalued? A Comprehensive Valuation Analysis\n",
    "Is NVIDIA's Stock Significantly Overvalued? A Comprehensive Valuation Analysis\n",
    "Understanding the GF Value\n",
    "The GF Value is a unique measure of the intrinsic value of a stock, calculated based on historical trading multiples, a GuruFocus adjustment factor, and future business performance estimates. If the stock price is significantly above the GF Value Line, it is overvalued, and its future return is likely to be poor. Conversely, if it is significantly below the GF Value Line, its future return will likely be higher.\n",
    "\n",
    "According to GuruFocus Value calculation, NVIDIA (NASDAQ:NVDA) appears to be significantly overvalued. The stock's current price of $418.01 per share and the market cap of $1 trillion further strengthen this assumption.\n",
    "\n",
    "Given that NVIDIA is significantly overvalued, the long-term return of its stock is likely to be much lower than its future business growth.\n",
    "\n",
    "Is NVIDIA's Stock Significantly Overvalued? A Comprehensive Valuation Analysis\n",
    "Is NVIDIA's Stock Significantly Overvalued? A Comprehensive Valuation Analysis\n",
    "Link: These companies may deliver higher future returns at reduced risk.\n",
    "\n",
    "Financial Strength of NVIDIA\n",
    "Examining the financial strength of a company is crucial before investing in its stock. Companies with poor financial strength pose a higher risk of permanent loss. NVIDIA's cash-to-debt ratio of 1.27 is worse than 58.04% of companies in the Semiconductors industry. However, NVIDIA's overall financial strength is 8 out of 10, indicating a strong financial position.\n",
    "\n",
    "Is NVIDIA's Stock Significantly Overvalued? A Comprehensive Valuation Analysis\n",
    "Is NVIDIA's Stock Significantly Overvalued? A Comprehensive Valuation Analysis\n",
    "Profitability and Growth\n",
    "Consistent profitability over the long term reduces the risk for investors. NVIDIA, with its profitability ranking of 10 out of 10, has been profitable for the past 10 years. The company's operating margin of 17.37% ranks better than 76.5% of companies in the Semiconductors industry.\n",
    "\n",
    "However, growth is a crucial factor in a company's valuation. NVIDIA's growth ranks worse than 52.99% of companies in the Semiconductors industry, with its 3-year average revenue growth rate better than 87.88% of companies in the industry.\n",
    "\n",
    "ROIC vs WACC\n",
    "Comparing a company's return on invested capital (ROIC) to its weighted average cost of capital (WACC) is an effective way to evaluate its profitability. Over the past 12 months, NVIDIA's ROIC was 20.32 while its WACC was 16.74, suggesting that the company is creating value for its shareholders.\n",
    "\n",
    "Is NVIDIA's Stock Significantly Overvalued? A Comprehensive Valuation Analysis\n",
    "Is NVIDIA's Stock Significantly Overvalued? A Comprehensive Valuation Analysis\n",
    "Conclusion\n",
    "In conclusion, NVIDIA (NASDAQ:NVDA) appears to be significantly overvalued. Despite its strong financial condition and profitability, its growth ranks lower than 52.99% of companies in the Semiconductors industry. To learn more about NVIDIA stock, you can check out its 30-Year Financials here.\n",
    "\n",
    "To find out the high quality companies that may deliver above-average returns, please check out GuruFocus High Quality Low Capex Screener.\n",
    "\n",
    "This article first appeared on GuruFocus.\"\"\""
   ]
  },
  {
   "cell_type": "code",
   "execution_count": 26,
   "id": "050c94e8-646a-44fc-b2fd-879df7081005",
   "metadata": {},
   "outputs": [
    {
     "data": {
      "text/plain": [
       "33"
      ]
     },
     "execution_count": 26,
     "metadata": {},
     "output_type": "execute_result"
    }
   ],
   "source": [
    "from langchain.text_splitter import RecursiveCharacterTextSplitter\n",
    "r_splitter = RecursiveCharacterTextSplitter(\n",
    "    separators = [\"\\n\\n\", \"\\n\", \" \"],\n",
    "    chunk_size=200,\n",
    "    chunk_overlap=0\n",
    ")\n",
    "\n",
    "chunks = r_splitter.split_text(text)\n",
    "len(chunks)"
   ]
  },
  {
   "cell_type": "code",
   "execution_count": 27,
   "id": "8f16d735-fa6e-4acc-b8ce-41dfb2af90d5",
   "metadata": {},
   "outputs": [
    {
     "name": "stdout",
     "output_type": "stream",
     "text": [
      "200\n",
      "194\n",
      "23\n",
      "162\n",
      "194\n",
      "197\n",
      "109\n",
      "197\n",
      "76\n",
      "184\n",
      "198\n",
      "198\n",
      "17\n",
      "191\n",
      "27\n",
      "140\n",
      "157\n",
      "72\n",
      "28\n",
      "195\n",
      "171\n",
      "182\n",
      "198\n",
      "85\n",
      "197\n",
      "41\n",
      "12\n",
      "196\n",
      "99\n",
      "168\n",
      "188\n",
      "105\n",
      "181\n"
     ]
    }
   ],
   "source": [
    "for chunk in chunks:\n",
    "    print(len(chunk))"
   ]
  }
 ],
 "metadata": {
  "kernelspec": {
   "display_name": "Python [conda env:base] *",
   "language": "python",
   "name": "conda-base-py"
  },
  "language_info": {
   "codemirror_mode": {
    "name": "ipython",
    "version": 3
   },
   "file_extension": ".py",
   "mimetype": "text/x-python",
   "name": "python",
   "nbconvert_exporter": "python",
   "pygments_lexer": "ipython3",
   "version": "3.13.5"
  }
 },
 "nbformat": 4,
 "nbformat_minor": 5
}
